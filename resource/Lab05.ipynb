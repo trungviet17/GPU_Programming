{
 "cells": [
  {
   "cell_type": "code",
   "execution_count": null,
   "metadata": {
    "id": "GtA15ioMGdWf"
   },
   "outputs": [],
   "source": [
    "!nvidia-smi"
   ]
  },
  {
   "cell_type": "code",
   "execution_count": null,
   "metadata": {
    "id": "QScSo_xmHh0C"
   },
   "outputs": [],
   "source": [
    "!nvcc --version"
   ]
  },
  {
   "cell_type": "code",
   "execution_count": null,
   "metadata": {
    "id": "oL28fUdHHmg1"
   },
   "outputs": [],
   "source": [
    "%%writefile vector_addition.cu\n",
    "\n",
    "#include <stdio.h>\n",
    "#include <cuda_runtime.h>\n",
    "\n",
    "\n",
    "__global__ void gpu_vector_add(int *ha, int *hb, int *hc, int size) {\n",
    "  int idx = blockIdx.x * blockDim.x + threadIdx.x;\n",
    "  if (idx < size) {\n",
    "    hc[idx] = ha[idx] + hb[idx];\n",
    "  }\n",
    "}\n",
    "\n",
    "\n",
    "void vector_add(int size) {\n",
    "\n",
    "  // khoi tao du lieu + init du lieu bat ki\n",
    "  int *ha = (int*)malloc(size * sizeof(int));\n",
    "  int *hb = (int*)malloc(size * sizeof(int));\n",
    "  int *hc = (int*)malloc(size * sizeof(int));\n",
    "\n",
    "  for (int i = 0; i < size; i++) {\n",
    "    ha[i] = i;\n",
    "    hb[i] = i;\n",
    "  }\n",
    "\n",
    "\n",
    "  // bo nho gpu\n",
    "  int *d_ha, *d_hb, *d_hc;\n",
    "  cudaMalloc((void**)&d_ha, size * sizeof(int));\n",
    "  cudaMalloc((void**)&d_hb, size * sizeof(int));\n",
    "  cudaMalloc((void**)&d_hc, size * sizeof(int));\n",
    "\n",
    "\n",
    "\n",
    "  // copy du lieu vao bo nho gpu\n",
    "  cudaMemcpy(d_ha, ha, size * sizeof(int), cudaMemcpyHostToDevice);\n",
    "  cudaMemcpy(d_hb, hb, size * sizeof(int), cudaMemcpyHostToDevice);\n",
    "\n",
    "  int threadblock = 256;\n",
    "  int blockgrid = (size + threadblock - 1) / threadblock;\n",
    "\n",
    "  // kernel\n",
    "  gpu_vector_add<<<blockgrid, threadblock>>>(d_ha, d_hb, d_hc, size);\n",
    "\n",
    "  // copy ket qua ve cpu\n",
    "  cudaMemcpy(hc, d_hc, size * sizeof(int), cudaMemcpyDeviceToHost);\n",
    "\n",
    "\n",
    "  // in ket qua\n",
    "  for (int i = 0; i < size; i++) {\n",
    "    printf(\"%d + %d = %d\\n\", ha[i], hb[i], hc[i]);\n",
    "  }\n",
    "\n",
    "  // free bo nho\n",
    "  cudaFree(d_ha);\n",
    "  cudaFree(d_hb);\n",
    "  cudaFree(d_hc);\n",
    "  free(ha);\n",
    "  free(hb);\n",
    "  free(hc);\n",
    "\n",
    "}\n",
    "\n",
    "\n",
    "int main() {\n",
    "  int size[] = {1024, 2048, 4096};\n",
    "\n",
    "  for (int i = 0; i < 3; i++) {\n",
    "    printf(\"size = %d\\n\", size[i]);\n",
    "    vector_add(size[i]);\n",
    "  }\n",
    "\n",
    "\n",
    "  return 0;\n",
    "}\n",
    "\n",
    "\n"
   ]
  },
  {
   "cell_type": "code",
   "execution_count": null,
   "metadata": {
    "id": "HXuK1vrsLHwW"
   },
   "outputs": [],
   "source": [
    "%%bash\n",
    "nvcc -o out vector_addition.cu -arch=sm_75\n",
    "./out"
   ]
  },
  {
   "cell_type": "code",
   "execution_count": null,
   "metadata": {
    "id": "SqQxXB-wLRuy"
   },
   "outputs": [],
   "source": []
  }
 ],
 "metadata": {
  "accelerator": "GPU",
  "colab": {
   "authorship_tag": "ABX9TyMjbdTR7DRN0Q+VikCzRgNf",
   "gpuType": "T4",
   "private_outputs": true,
   "provenance": []
  },
  "kernelspec": {
   "display_name": "base",
   "language": "python",
   "name": "python3"
  },
  "language_info": {
   "name": "python",
   "version": "3.9.5"
  }
 },
 "nbformat": 4,
 "nbformat_minor": 0
}
